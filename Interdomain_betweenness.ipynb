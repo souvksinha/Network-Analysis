{
 "cells": [
  {
   "cell_type": "code",
   "execution_count": null,
   "id": "2b0c0c4b",
   "metadata": {},
   "outputs": [],
   "source": [
    "# Load the python package\n",
    "import os\n",
    "# import dynetan\n",
    "from dynetan.toolkit import *\n",
    "from dynetan.viz import *\n",
    "from dynetan.proctraj import *\n",
    "from dynetan.gencor import *\n",
    "from dynetan.contact import *\n",
    "from dynetan.datastorage import *\n",
    "\n",
    "#from numpy.linalg import norm\n",
    "from itertools import islice\n",
    "from scipy import stats\n",
    "\n",
    "import pandas as pd\n",
    "import numpy as np\n",
    "import scipy as sp"
   ]
  },
  {
   "cell_type": "code",
   "execution_count": null,
   "id": "5fc13ef2",
   "metadata": {},
   "outputs": [],
   "source": [
    "dnad = DNAdata()"
   ]
  },
  {
   "cell_type": "markdown",
   "id": "8db46f06",
   "metadata": {},
   "source": [
    "# Load network data obtained by Dynetan module "
   ]
  },
  {
   "cell_type": "code",
   "execution_count": null,
   "id": "432e740d",
   "metadata": {
    "scrolled": true
   },
   "outputs": [],
   "source": [
    "dataDir = \"......\" ## Directory where the first notebook data is stored\n",
    "\n",
    "# Path where results will be written (you may want plots and data files in a new location)\n",
    "workDir = \".....\"\n",
    "\n",
    "fileNameRoot = \"Evo0MM_network\" ## from first notebook output [look for the prefix of .hf files]\n",
    "fullPathRoot = os.path.join(dataDir, fileNameRoot)\n",
    "\n",
    "# Define the segID of the Ligand being studied.\n",
    "ligandSegID = \"SYST\"\n",
    "dnad.loadFromFile(fullPathRoot)\n",
    "dcdVizFile = fullPathRoot + \"_reducedTraj.dcd\"\n",
    "pdbVizFile = fullPathRoot + \"_reducedTraj.pdb\"\n",
    "\n",
    "workUviz = mda.Universe(pdbVizFile, dcdVizFile)\n",
    "# We add this to the object for ease of access.\n",
    "dnad.nodesAtmSel = workUviz.atoms[ dnad.nodesIxArray ]\n",
    "print(dnad.nodesAtmSel)"
   ]
  },
  {
   "cell_type": "markdown",
   "id": "f4c2639d",
   "metadata": {},
   "source": [
    "A function to calculate pathlengths in terms of edge betweenness:"
   ]
  },
  {
   "cell_type": "markdown",
   "id": "a3b364ca",
   "metadata": {},
   "source": [
    "## Calculate inter-domain betweennesses which is a more robust data than intercommunity betweenness data. "
   ]
  },
  {
   "cell_type": "code",
   "execution_count": null,
   "id": "9b5674d4",
   "metadata": {},
   "outputs": [],
   "source": [
    "\n",
    "# a function to assign nodes to a specific domain\n",
    "def search(lst, value):\n",
    "    for i in range(len(lst)):\n",
    "        if value in lst[i]:\n",
    "            return i\n",
    "\n",
    "\n",
    "# define a list of domain residue ranges\n",
    "domain = [list(range(167,307)), list(range(494, 710)), list(range(762, 906)), list(range(1451, 1470)), list(range(1362, 1381))] \n",
    "\n",
    "\n",
    "\n",
    "def interdomain(domain_list, output_prefix):\n",
    "    \n",
    "    # create a 2d np.array to fill domain betweenness\n",
    "    domain_bet = np.zeros(shape=(len(domain), len(domain)))\n",
    "    \n",
    "    for winIndx in range(dnad.numWinds):\n",
    "        \n",
    "        bet = np.zeros(shape=(dnad.corrMatAll[winIndx,:,:].shape[0], dnad.corrMatAll[winIndx,:,:].shape[1]))\n",
    "        for pair,btw in dnad.btws[winIndx].items():\n",
    "            bet[pair[0], pair[1]] = btw\n",
    "\n",
    "        normBetMat = copy.deepcopy(bet)\n",
    "        normBetMat /= normBetMat.max()\n",
    "        \n",
    "        for pair,btw in dnad.btws[winIndx].items():\n",
    "            \n",
    "           ## A running matrix to fill out domain betweenness\n",
    "            running_dom = np.zeros(shape=(len(domain), len(domain)))\n",
    "            node1 = pair[0]\n",
    "            node2 = pair[1]\n",
    "\n",
    "          # if the nodes doesn't belong to the same domain, calculate the betweenness between them\n",
    "            max_list = [item for sublist in domain_list for item in sublist]\n",
    "            if (node1 < max(max_list)) and (node2 < max(max_list)):\n",
    "                if search(domain,node1) != search(domain,node2):\n",
    "                    if (normBetMat[ node1, node2] != 0) & (search(domain,node1) != None) & (search(domain,node2) != None):\n",
    "                        running_dom[search(domain,node1), search(domain,node2)] = normBetMat[ node1, node2]\n",
    "                        running_dom[search(domain,node2), search(domain,node1)] = normBetMat[ node1, node2]\n",
    "                        domain_bet = np.add(domain_bet, running_dom) # updating after each frame\n",
    "\n",
    "    print(domain_bet)\n",
    "    domain_bet_round = np.round_(domain_bet, decimals = 3)\n",
    "    np.save(os.path.join(workDir, output_prefix+\".npy\"), domain_bet_round)\n",
    "    np.savetxt(os.path.join(workDir, output_prefix+\".csv\"), domain_bet_round, fmt='%.3f', delimiter=\",\")\n",
    "\n",
    "interdomain(domain, 'Evo_4rep_InterDomain_betweenness_test')"
   ]
  },
  {
   "cell_type": "markdown",
   "id": "9ede86db",
   "metadata": {},
   "source": [
    "# This section reads the interdomain betweenness matrices and calculate the difference in interdomain betweennesses of 2 comparable systems..."
   ]
  },
  {
   "cell_type": "code",
   "execution_count": null,
   "id": "a6e1c2e5",
   "metadata": {},
   "outputs": [],
   "source": [
    "## differential domain betweenness #######\n",
    "def diff_domain_between(filename1, filename2, outputfilename): #all csv format files e.g.: filename1= interdomain_betweenness_s1.csv\n",
    "    \n",
    "    import numpy as np\n",
    "    from numpy import genfromtxt\n",
    "    s1 = genfromtxt(os.path.join(workDir, filename1), delimiter=',') # SYS-1\n",
    "    s2 = genfromtxt(os.path.join(workDir, filename2), delimiter=',') # SYS-2\n",
    "    \n",
    "    t1 =  np.zeros(shape=(s1.shape[0], s1.shape[1]))\n",
    "\n",
    "    for i in range(s1.shape[0]):\n",
    "        for j in range(s1.shape[1]):\n",
    "            t1[i,j] = s1[i,j] - s2[i,j]\n",
    "    print(\"system-1:\", s1)\n",
    "    print(\"system-2:\", s2)\n",
    "    print(\"Difference:\", t1)\n",
    "    np.savetxt(os.path.join(workDir, outputfilename), t1, fmt='%.3f', delimiter=\",\")\n",
    "    "
   ]
  },
  {
   "cell_type": "code",
   "execution_count": null,
   "id": "71c73eff",
   "metadata": {},
   "outputs": [],
   "source": [
    "diff_domain_between(\"sys1_betweenness_file\", \"sys2_betweenness_file\", \"SYS1-SYS2_output\")"
   ]
  },
  {
   "cell_type": "markdown",
   "id": "45f28ee9",
   "metadata": {},
   "source": [
    "## For read graph and visulaize network"
   ]
  },
  {
   "cell_type": "code",
   "execution_count": null,
   "id": "93a14603",
   "metadata": {},
   "outputs": [],
   "source": [
    "import numpy as np\n",
    "import pandas as pd"
   ]
  },
  {
   "cell_type": "markdown",
   "id": "e899b0e8",
   "metadata": {},
   "source": [
    "Load the differential interdomain betweenness data (two system comparison):"
   ]
  },
  {
   "cell_type": "code",
   "execution_count": null,
   "id": "6d1555cd",
   "metadata": {},
   "outputs": [],
   "source": [
    "interdomain_bet = np.genfromtxt(\"...InterDomain_betweenness.csv\", delimiter=\",\")\n",
    "\n",
    "\n",
    "print(interdomain_bet)\n",
    "print(interdomain_bet.shape)"
   ]
  },
  {
   "cell_type": "code",
   "execution_count": null,
   "id": "f2654259",
   "metadata": {},
   "outputs": [],
   "source": [
    "b = np.triu(interdomain_bet)\n",
    "print(b)"
   ]
  },
  {
   "cell_type": "code",
   "execution_count": null,
   "id": "b5e31d9f",
   "metadata": {},
   "outputs": [],
   "source": [
    "node_names = ['REC2', 'REC3', 'HNH', 'TS', 'guideRNA'] ## Give names to your domains"
   ]
  },
  {
   "cell_type": "code",
   "execution_count": null,
   "id": "653164c4",
   "metadata": {},
   "outputs": [],
   "source": [
    "import matplotlib.pyplot as plt\n",
    "# %matplotlib inline\n",
    "# fig, ax = plt.subplots()\n",
    "# ig.plot(g, target=ax)\n",
    "import igraph as ig \n",
    "from igraph import *\n",
    "\n",
    "# get the row, col indices of the non-zero elements in your adjacency matrix\n",
    "conn_indices = np.where(b)\n",
    "\n",
    "# get the weights corresponding to these indices\n",
    "weights = b[conn_indices]\n",
    "\n",
    "# a sequence of (i, j) tuples, each corresponding to an edge from i -> j\n",
    "edges = zip(*conn_indices)\n",
    "\n",
    "# initialize the graph from the edge sequence\n",
    "G = ig.Graph(edges=edges, directed=False)\n",
    "\n",
    "color_list = []\n",
    "for i in weights:\n",
    "    if i < 0:\n",
    "        color_list.append('red')\n",
    "    else:\n",
    "        color_list.append('cyan')\n",
    "# assign node names and weights to be attributes of the vertices and edges\n",
    "# respectively\n",
    "G.vs['label'] = node_names\n",
    "G.es['color'] = color_list\n",
    "G.es['weight'] = np.absolute(weights)\n",
    "\n",
    "\n",
    "# I will also assign the weights to the 'width' attribute of the edges. this\n",
    "# means that igraph.plot will set the line thicknesses according to the edge\n",
    "# weights\n",
    "G.es['width'] = np.absolute(weights)\n",
    "\n",
    "\n",
    "\n",
    "# plot the graph, just for fun\n",
    "# igraph.plot(G, layout=\"rt\", labels=True, margin=80, target=ax)\n",
    "layout = G.layout(\"circle\")\n",
    "visual_style = {}\n",
    "visual_style[\"vertex_size\"] = 70\n",
    "visual_style[\"vertex_color\"] = \"wheat\"\n",
    "visual_style[\"labels\"] = True\n",
    "visual_style[\"margin\"] = 80\n",
    "visual_style[\"layout\"] = layout\n",
    "\n",
    "# ig.plot(G, vertex_size=70, vertex_color=\"wheat\", layout=layout, labels=True, margin=80)\n",
    "ig.plot(G,\".....png\", **visual_style)"
   ]
  }
 ],
 "metadata": {
  "kernelspec": {
   "display_name": "Python 3 (ipykernel)",
   "language": "python",
   "name": "python3"
  },
  "language_info": {
   "codemirror_mode": {
    "name": "ipython",
    "version": 3
   },
   "file_extension": ".py",
   "mimetype": "text/x-python",
   "name": "python",
   "nbconvert_exporter": "python",
   "pygments_lexer": "ipython3",
   "version": "3.7.13"
  }
 },
 "nbformat": 4,
 "nbformat_minor": 5
}

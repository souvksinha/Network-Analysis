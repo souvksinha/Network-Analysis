{
 "cells": [
  {
   "cell_type": "markdown",
   "metadata": {},
   "source": [
    "# Generalized Network Analysis \n",
    "\n",
    "This notebook is same as the one given provided with the work entitled **Generalized correlation-based dynamical network analysis: a new high-performance approach for identifying allosteric communications in molecular dynamics trajectories**, by Marcelo C. R. Melo, Rafael C. Bernardi, Cesar de la Fuente-Nunez, and Zaida Luthey-Schulten. For more information see http://faculty.scs.illinois.edu/schulten/. \n"
   ]
  },
  {
   "cell_type": "code",
   "execution_count": null,
   "metadata": {
    "ExecuteTime": {
     "end_time": "2020-04-14T20:02:26.970833Z",
     "start_time": "2020-04-14T20:02:20.399680Z"
    }
   },
   "outputs": [],
   "source": [
    "# Load the python package\n",
    "#import parmed as pmd\n",
    "# Load the python package\n",
    "import os\n",
    "import dynetan\n",
    "from dynetan.toolkit import *\n",
    "from dynetan.viz import *\n",
    "from dynetan.proctraj import *\n",
    "from dynetan.gencor import *\n",
    "from dynetan.contact import *\n",
    "\n",
    "\n",
    "# Create the object that processes MD trajectories.\n",
    "dnap = DNAproc()\n",
    "dnap2 = DNAproc()\n",
    "\n",
    "!pip install pytraj\n",
    "import pytraj as pt\n",
    "import sys, os\n",
    "import numpy as np\n",
    "#pip install mdtraj # Intall MDtraj separately\n",
    "import mdtraj as md\n",
    "from mdtraj.testing import get_fn\n",
    "import platform\n",
    "import scipy.cluster.hierarchy\n",
    "from scipy.spatial.distance import squareform\n",
    "import scipy.stats as stats\n",
    "import matplotlib.pyplot as plt\n",
    "import pandas as pd\n",
    "#import nglview as nv\n",
    "from scipy.interpolate import griddata\n",
    "#import moviepy.editor as mpy\n",
    "import seaborn as sb\n",
    "# import barnaba\n",
    "#import barnaba as bb\n",
    "from statistics import mean, stdev\n",
    "from pytraj import matrix\n",
    "from matplotlib import colors\n",
    "from IPython.display import set_matplotlib_formats\n",
    "%matplotlib inline\n",
    "set_matplotlib_formats('png')"
   ]
  },
  {
   "cell_type": "markdown",
   "metadata": {},
   "source": [
    "# Node Groups\n",
    "\n",
    "In Network Analysis, each residue is represented by one or more \"nodes\", serving as proxies for groups of atoms form the original residue. This approach lowers computational cost and noise. \n",
    "\n",
    "\n",
    "# System info:\n",
    "To get started, we need some basic information about the system:\n",
    "- Work directory where we will find relevant files.\n",
    "- Names of PSF and DCD files.\n",
    "#- segid's for the regions that will be used for network analysis.\n",
    "#- Name of the solvent residue(s) [default: TIP3]\n",
    "#- Number of windows into which the trajectory will be split. [default: 4]\n",
    "- Name of atom(s) that will represent node(s) in each residue.\n",
    "- Names of atoms in node groups.\n",
    "\n",
    "**You can can find a complete list of supported trajectory formats [here](https://www.mdanalysis.org/docs/documentation_pages/coordinates/init.html#supported-coordinate-formats):**\n"
   ]
  },
  {
   "cell_type": "code",
   "execution_count": null,
   "metadata": {},
   "outputs": [],
   "source": [
    "## -- Additional block for load trajs  --- ##\n",
    "workDir = \"/Path/toWorkingDirectory/\"\n",
    "ptop1 = os.path.join(workDir, \"name_of_topologyfile)\")\n",
    "f1 = os.path.join(workDir, \"name_of_trajfile\") \n",
    "\n",
    "traj1 = pt.load(f1, top = ptop1, stride=1)"
   ]
  },
  {
   "cell_type": "code",
   "execution_count": null,
   "metadata": {
    "ExecuteTime": {
     "end_time": "2020-04-14T20:02:26.989963Z",
     "start_time": "2020-04-14T20:02:26.973220Z"
    },
    "scrolled": true
   },
   "outputs": [],
   "source": [
    "# Path where input files will searched and results be written.\n",
    "# Segment IDs for regions that will be studied.\n",
    "segIDs = [\"SYSTEM\"]\n",
    "\n",
    "# Number of windows created from full simulation.\n",
    "#numWinds = 10\n",
    "numWinds = 1 ## for cluster0\n",
    "\n",
    "# Sampled frames per window\n",
    "# numSampledFrames = 10\n",
    "\n",
    "# Network Analysis will make one node per protein residue (in the alpha carbon)\n",
    "# For other residues, the user must specify atom(s) that will represent a node.\n",
    "## Here is an example of protein-RNA system\n",
    "customResNodes = {}\n",
    "customResNodes[\"G5\"] = [\"N9\"]\n",
    "customResNodes[\"A5\"] = [\"N9\"] #atg\n",
    "customResNodes[\"U5\"] = [\"N1\"] #atg\n",
    "customResNodes[\"A\"] = [\"P\"]\n",
    "customResNodes[\"C\"] = [\"P\"]\n",
    "customResNodes[\"G\"] = [\"P\"]\n",
    "customResNodes[\"U\"] = [\"P\"]\n",
    "customResNodes[\"U3\"] = [\"P\"]\n",
    "customResNodes[\"C3\"] = [\"P\"] #tg\n",
    "customResNodes[\"A3\"] = [\"P\"] #atg\n",
    "\n",
    "\n",
    "\n",
    "# We also need to know the heavy atoms that compose each node group.\n",
    "\n",
    "usrNodeGroups = {}\n",
    "\n",
    "usrNodeGroups[\"G5\"] = {}\n",
    "usrNodeGroups[\"A5\"] = {}\n",
    "usrNodeGroups[\"U5\"] = {}\n",
    "usrNodeGroups[\"A\"] = {}\n",
    "usrNodeGroups[\"C\"] = {}\n",
    "usrNodeGroups[\"G\"] = {}\n",
    "usrNodeGroups[\"U\"] = {}\n",
    "usrNodeGroups[\"U3\"] = {}\n",
    "usrNodeGroups[\"C3\"] = {}\n",
    "usrNodeGroups[\"A3\"] = {}\n",
    "usrNodeGroups[\"U3\"] = {}\n",
    "\n",
    "usrNodeGroups[\"G5\"][\"N9\"] = set(\"O5' C5' C4' O4' C1' N9 C3' C2' O2' O3'\".split())\n",
    "usrNodeGroups[\"A5\"][\"N9\"] = set(\"O5' C5' C4' O4' C1' N9 C3' C2' O2' O3'\".split())\n",
    "usrNodeGroups[\"U5\"][\"N1\"] = set(\"O5' C5' C4' O4' C1' N1 C3' C2' O2' O3'\".split())\n",
    "usrNodeGroups[\"A\"][\"P\"] = set(\"P OP1 OP2 O5' C5' C4' O4' C1' C3' C2' O2' O3'\".split())\n",
    "usrNodeGroups[\"C\"][\"P\"] = set(\"P OP1 OP2 O5' C5' C4' O4' C1' C3' C2' O2' O3'\".split())\n",
    "usrNodeGroups[\"G\"][\"P\"] = set(\"P OP1 OP2 O5' C5' C4' O4' C1' C3' C2' O2' O3'\".split())\n",
    "usrNodeGroups[\"U\"][\"P\"] = set(\"P OP1 OP2 O5' C5' C4' O4' C1' C3' C2' O2' O3'\".split())\n",
    "usrNodeGroups[\"U3\"][\"P\"] = set(\"P OP1 OP2 O5' C5' C4' O4' C1' C3' C2' O2' O3'\".split())\n",
    "usrNodeGroups[\"C3\"][\"P\"] = set(\"P OP1 OP2 O5' C5' C4' O4' C1' C3' C2' O2' O3'\".split())\n",
    "usrNodeGroups[\"A3\"][\"P\"] = set(\"P OP1 OP2 O5' C5' C4' O4' C1' C3' C2' O2' O3'\".split())\n",
    "#################################\n",
    "### Extra configuration\n",
    "\n",
    "# Cutoff for contact map (In Angstroms)\n",
    "cutoffDist = 4.5\n",
    "\n",
    "# Minimum contact persistance (In ratio of total trajectory frames)\n",
    "contactPersistence = 0.75\n",
    "\n",
    "#################################\n",
    "### Load info to object\n",
    "\n",
    "dnap.setNumWinds(numWinds)\n",
    "# dnap.setNumSampledFrames(numSampledFrames)\n",
    "dnap.setCutoffDist(cutoffDist)\n",
    "dnap.setContactPersistence(contactPersistence)\n",
    "#dnap.seth2oName(h2oName)\n",
    "dnap.setSegIDs(segIDs)\n",
    "\n",
    "dnap.setCustomResNodes(customResNodes)\n",
    "dnap.setUsrNodeGroups(usrNodeGroups)"
   ]
  },
  {
   "cell_type": "markdown",
   "metadata": {},
   "source": [
    "# Load the trajectory\n",
    "\n",
    "Our Generalized Network Analysis leverages the MDAnalysis package to create a *universe* that contains all the trajectory and system information."
   ]
  },
  {
   "cell_type": "code",
   "execution_count": null,
   "metadata": {
    "ExecuteTime": {
     "end_time": "2020-04-14T20:02:28.159684Z",
     "start_time": "2020-04-14T20:02:26.993405Z"
    }
   },
   "outputs": [],
   "source": [
    "dnap.loadSystem(ptop1,f1)"
   ]
  },
  {
   "cell_type": "code",
   "execution_count": null,
   "metadata": {
    "ExecuteTime": {
     "end_time": "2020-04-14T20:02:28.184664Z",
     "start_time": "2020-04-14T20:02:28.163650Z"
    }
   },
   "outputs": [],
   "source": [
    "# We can access the trajectory data directly.\n",
    "dnap.getU().trajectory"
   ]
  },
  {
   "cell_type": "markdown",
   "metadata": {},
   "source": [
    "### Checks segments and residue names\n",
    "\n",
    "This is important to know if there are residues in the structure that we didn't know of, and need to be addresssed so that network analysis can create nodes in all selected residues."
   ]
  },
  {
   "cell_type": "code",
   "execution_count": null,
   "metadata": {
    "ExecuteTime": {
     "end_time": "2020-04-14T20:02:28.485023Z",
     "start_time": "2020-04-14T20:02:28.187188Z"
    },
    "scrolled": false
   },
   "outputs": [],
   "source": [
    "dnap.checkSystem()"
   ]
  },
  {
   "cell_type": "code",
   "execution_count": null,
   "metadata": {
    "ExecuteTime": {
     "end_time": "2020-04-14T20:02:28.491775Z",
     "start_time": "2020-04-14T20:02:28.488098Z"
    }
   },
   "outputs": [],
   "source": [
    "# More checks?\n",
    "#\n",
    "# You can add more checks here if your system has non-standard residues that need special attention."
   ]
  },
  {
   "cell_type": "markdown",
   "metadata": {},
   "source": [
    "### Prepare network representation of the system\n",
    "\n",
    "Here we check that we know how to treat all types of residues in the final selection. Every residue will generate one or more nodes in the final network. Then we store the groups of atoms that define each node."
   ]
  },
  {
   "cell_type": "code",
   "execution_count": null,
   "metadata": {
    "ExecuteTime": {
     "end_time": "2020-04-14T20:02:36.062392Z",
     "start_time": "2020-04-14T20:02:35.535533Z"
    }
   },
   "outputs": [],
   "source": [
    "dnap.prepareNetwork()"
   ]
  },
  {
   "cell_type": "markdown",
   "metadata": {},
   "source": [
    "## Align the trajectory based on selected segments\n",
    "\n",
    "We align the trajectory to its first frame using heavy atoms (non-hydrogen) from the selected segments. In the process, we also transfer the trajectory to the computer memory, so that future analysis and manipulations are completed faster."
   ]
  },
  {
   "cell_type": "code",
   "execution_count": null,
   "metadata": {
    "ExecuteTime": {
     "end_time": "2020-04-14T20:02:37.698151Z",
     "start_time": "2020-04-14T20:02:36.082241Z"
    }
   },
   "outputs": [],
   "source": [
    "# If your system is too large, you can turn off the \"in memory\" option, at a cost for performance.\n",
    "dnap.alignTraj(inMemory=True)"
   ]
  },
  {
   "cell_type": "markdown",
   "metadata": {},
   "source": [
    "### Select residues that are closer than 4.5A for more than 75% of simulation\n",
    "\n",
    "<img align=\"right\" src=\"./toolkit/figures/nodeContactDistances.png\" alt=\"drawing\" width=\"400px\"/>\n",
    "\n",
    "Creates an N-by-N matrix for all N nodes in the selected region, and automatically selected nodes (ions, solvent).\n",
    "\n",
    "The following cell defines efficient functions to run the analysis and create a contact matrix. We leverage both MDAnalysis parallel contact detection tools, as well as accelerated Numba and Cython function. After creating the contact matrix, we remove any automatically selected nodes that have insuficient persistance, and filter the contacts by (optionally) removing contacts between nodes in consecutive residues in a protein or nucleic chain.\n",
    "\n",
    "In the example to the right, the distances between atoms indicates that in that frame of the simulation, the node representing the water molecule would make a contact with the phosphate node (representing the ribose ring and phosphate), but not with the nitrogen node (representing the nucleic base).\n",
    "\n"
   ]
  },
  {
   "cell_type": "markdown",
   "metadata": {},
   "source": [
    "**Attention** For every time you start this Jupyter Notebook, the first time you execute this function may take significanlty longer (several seconds) to start. This is because we use *Cython* and *Numba* to compile functions \"on-demand\", and a new compilation may be necessary after the notebook is re-started."
   ]
  },
  {
   "cell_type": "code",
   "execution_count": null,
   "metadata": {
    "ExecuteTime": {
     "end_time": "2020-04-14T20:03:25.577099Z",
     "start_time": "2020-04-14T20:02:37.700995Z"
    }
   },
   "outputs": [],
   "source": [
    "# To speed-up the contact matrix calculation, a larger stride can be selected, at a cost for precision.\n",
    "dnap.findContacts()"
   ]
  },
  {
   "cell_type": "code",
   "execution_count": null,
   "metadata": {},
   "outputs": [],
   "source": [
    "# dir(dnap.findContacts)"
   ]
  },
  {
   "cell_type": "markdown",
   "metadata": {},
   "source": [
    "### Removing contacts between nodes in the same residue.\n",
    "\n",
    "The following function guarantees that there will be no \"self-contacts\" (contacts between a node and itself), and gives you the opportunity to remove contacts between nodes in consecutive residues (such as sequential amino acids in the same chain, removing back-bone interactions). \n",
    "\n",
    "The function also removes nodes that are never in contact with any other node in the system (such as the ends of flexible chains, or residues in flexible loops). This will automatically update the MDanalysis universe and related network informatio, such as number of nodes and atom-to-node mappings."
   ]
  },
  {
   "cell_type": "code",
   "execution_count": null,
   "metadata": {
    "ExecuteTime": {
     "end_time": "2020-04-14T20:03:30.345737Z",
     "start_time": "2020-04-14T20:03:25.588031Z"
    },
    "scrolled": true
   },
   "outputs": [],
   "source": [
    "dnap.filterContacts(notSameRes=True, notConsecutiveRes=False, removeIsolatedNodes=True)"
   ]
  },
  {
   "cell_type": "markdown",
   "metadata": {},
   "source": [
    "## Calculate Generalized Correlation with Python/Numba"
   ]
  },
  {
   "cell_type": "code",
   "execution_count": null,
   "metadata": {
    "ExecuteTime": {
     "end_time": "2020-04-14T20:03:43.328370Z",
     "start_time": "2020-04-14T20:03:30.348061Z"
    },
    "scrolled": false
   },
   "outputs": [],
   "source": [
    "# We can calculate generalized correlaions in parallel using Python's multiprocessing package.\n",
    "dnap.calcCor(ncores=36)"
   ]
  },
  {
   "cell_type": "markdown",
   "metadata": {},
   "source": [
    "## Calculate cartesian distances between all nodes in the selected system.\n",
    "\n",
    "Here, we will calculate the **shortest** distance between atoms in all pairs of nodes. It is similar to the contact matrix calculation, but we check all distances and keep the shortest one to use in our analysis."
   ]
  },
  {
   "cell_type": "code",
   "execution_count": null,
   "metadata": {
    "ExecuteTime": {
     "end_time": "2020-04-14T20:03:54.619509Z",
     "start_time": "2020-04-14T20:03:43.331634Z"
    }
   },
   "outputs": [],
   "source": [
    "# We can leverage MDanalysis parallelization options with backend=\"serial\" or backend=\"openmp\".\n",
    "# For very small systems, the serial can be faster!\n",
    "# Sampled frames per window\n",
    "numSampledFrames = 200\n",
    "dnap.setNumSampledFrames(numSampledFrames)\n",
    "dnap.calcCartesian(backend=\"openmp\")"
   ]
  },
  {
   "cell_type": "markdown",
   "metadata": {},
   "source": [
    "# Network Calculations\n",
    "Create a graph from our correlation matrix. Different properties are calculated:\n",
    "\n",
    "*Density* maesures how connected the graph is compared to how connected it *could* be. It is the ratio between edges in the graph over all possible edges between all pairs of nodes.\n",
    "\n",
    "*Transitivity* maesures the triadic closure, comparing present triangles to possible triangles. In a triangle, if A is connected to B, and B connected to C, then A is connected to C.\n",
    "\n",
    "*Degree* measures the number of connections a node has.\n",
    "\n",
    "(Reference)[1]\n",
    "\n",
    "[1]:https://programminghistorian.org/en/lessons/exploring-and-analyzing-network-data-with-python#advanced-networkx-community-detection-with-modularity"
   ]
  },
  {
   "cell_type": "code",
   "execution_count": null,
   "metadata": {
    "ExecuteTime": {
     "end_time": "2020-04-14T20:03:56.272811Z",
     "start_time": "2020-04-14T20:03:54.622084Z"
    }
   },
   "outputs": [],
   "source": [
    "dnap.calcGraphInfo()"
   ]
  },
  {
   "cell_type": "code",
   "execution_count": null,
   "metadata": {
    "ExecuteTime": {
     "end_time": "2020-04-14T20:03:56.283952Z",
     "start_time": "2020-04-14T20:03:56.276920Z"
    }
   },
   "outputs": [],
   "source": [
    "# Basic information of the network as interpreted as a graph.\n",
    "\n",
    "with open('crRNA_network_info.txt', 'w') as f:\n",
    "    print( nx.info(dnap.nxGraphs[0]), file = f)\n",
    "    print( 'Diameter of the network:', nx.diameter(dnap.nxGraphs[0]), file = f)\n",
    "    # Both density and transitivity are scaled from 0 to 1\n",
    "    for win in range(dnap.numWinds):\n",
    "#         print(\"----- Window {} -----\".format(win),)\n",
    "        print(\"Density:\", round( nx.density(dnap.nxGraphs[win]), 4), file = f )\n",
    "        print(\"Transitivity:\", round( nx.transitivity(dnap.nxGraphs[win]), 4),\"\\n\", file =f )\n",
    "        \n",
    "# print( nx.info(dnap.nxGraphs[0]))"
   ]
  },
  {
   "cell_type": "code",
   "execution_count": null,
   "metadata": {
    "ExecuteTime": {
     "end_time": "2020-04-14T20:03:56.530227Z",
     "start_time": "2020-04-14T20:03:56.511898Z"
    }
   },
   "outputs": [],
   "source": [
    "## Get the nodes sorted by degree centrality\n",
    "\n",
    "from operator import itemgetter\n",
    "\n",
    "# We can check the nodes that have the most connections in each window.\n",
    "# with open('crRNA_network_info.txt', 'a') as f:\n",
    "with open('Network Analysis/crRNA_sorted_nodes_by_degree.txt', 'a') as f:\n",
    "    \n",
    "    for win in range(dnap.numWinds):\n",
    "        print(\"----- Window {} -----\".format(win))\n",
    "\n",
    "        sorted_degree = sorted(dnap.getDegreeDict(win).items(), key=itemgetter(1), reverse=True)\n",
    "\n",
    "        for n,d in sorted_degree[:]:\n",
    "            print(\"{0:>4} --> {1:>2} : {2}\".format(n, d, getSelFromNode(n, dnap.nodesAtmSel)), file = f)\n",
    "\n",
    "        print()"
   ]
  },
  {
   "cell_type": "code",
   "execution_count": null,
   "metadata": {},
   "outputs": [],
   "source": [
    "# dir(dnap)"
   ]
  },
  {
   "cell_type": "markdown",
   "metadata": {},
   "source": [
    "## Calculate optimal paths\n",
    "We choose the Floyd Warshall algorithm[1]. This uses the **correlations as weights** to calculate network distances and shortest distances.\n",
    "\n",
    "[1]:https://networkx.github.io/documentation/stable/reference/algorithms/generated/networkx.algorithms.shortest_paths.dense.floyd_warshall.html?highlight=warshall#networkx.algorithms.shortest_paths.dense.floyd_warshall"
   ]
  },
  {
   "cell_type": "code",
   "execution_count": null,
   "metadata": {
    "ExecuteTime": {
     "end_time": "2020-04-14T20:04:03.692662Z",
     "start_time": "2020-04-14T20:03:56.533388Z"
    }
   },
   "outputs": [],
   "source": [
    "dnap.calcOptPaths(ncores=12)"
   ]
  },
  {
   "cell_type": "markdown",
   "metadata": {},
   "source": [
    "## Calculate betweenness\n",
    "\n",
    "We calculate both betweenness centrality[1] for edges and eigenvector centrality[2] for nodes.\n",
    "\n",
    "[1]:https://networkx.github.io/documentation/stable/reference/algorithms/generated/networkx.algorithms.centrality.edge_betweenness_centrality.html?highlight=betweenness#networkx.algorithms.centrality.edge_betweenness_centrality\n",
    "[2]:https://networkx.github.io/documentation/networkx-1.10/reference/generated/networkx.algorithms.centrality.eigenvector_centrality.html"
   ]
  },
  {
   "cell_type": "code",
   "execution_count": null,
   "metadata": {
    "ExecuteTime": {
     "end_time": "2020-04-14T20:04:04.371111Z",
     "start_time": "2020-04-14T20:04:03.698752Z"
    },
    "scrolled": true
   },
   "outputs": [],
   "source": [
    "dnap.calcBetween(ncores=12)"
   ]
  },
  {
   "cell_type": "code",
   "execution_count": null,
   "metadata": {
    "ExecuteTime": {
     "end_time": "2020-04-14T20:04:04.383621Z",
     "start_time": "2020-04-14T20:04:04.374440Z"
    }
   },
   "outputs": [],
   "source": [
    "from itertools import islice\n",
    "\n",
    "# Pairs of nodes with highest Betweeness values, compared to their correlation values (in Window 0)\n",
    "with open('Network Analysis/crRNA_sorted_nodes_by_betweenness.txt', 'a') as f:\n",
    "    \n",
    "#     for k,v in islice(dnap.btws[0].items(),10):\n",
    "    for k,v in islice(dnap.btws[0].items(),None):\n",
    "        print(\"Nodes {} have betweenes {} and correlation {}.\".format(k, \n",
    "                                                                      round(v,3), \n",
    "                                                                      round(dnap.corrMatAll[0, k[0], k[1]], 3) ), file = f )"
   ]
  },
  {
   "cell_type": "markdown",
   "metadata": {},
   "source": [
    "Turn to node centrality instead of edge centrality:"
   ]
  },
  {
   "cell_type": "code",
   "execution_count": null,
   "metadata": {
    "ExecuteTime": {
     "end_time": "2020-04-14T20:04:04.706385Z",
     "start_time": "2020-04-14T20:04:04.386209Z"
    }
   },
   "outputs": [],
   "source": [
    "dnap.calcEigenCentral()"
   ]
  },
  {
   "cell_type": "markdown",
   "metadata": {},
   "source": [
    "### Calculate communities\n",
    "\n"
   ]
  },
  {
   "cell_type": "markdown",
   "metadata": {},
   "source": [
    "Using **Louvain heuristices** is feasible. \n",
    "This method also maximizes the modularity of the network.\n",
    "\n",
    "http://iopscience.iop.org/article/10.1088/1742-5468/2008/10/P10008/meta"
   ]
  },
  {
   "cell_type": "code",
   "execution_count": null,
   "metadata": {
    "ExecuteTime": {
     "end_time": "2020-04-14T20:04:04.985294Z",
     "start_time": "2020-04-14T20:04:04.712272Z"
    }
   },
   "outputs": [],
   "source": [
    "dnap.calcCommunities()"
   ]
  },
  {
   "cell_type": "code",
   "execution_count": null,
   "metadata": {
    "ExecuteTime": {
     "end_time": "2020-04-14T20:04:04.997552Z",
     "start_time": "2020-04-14T20:04:04.988395Z"
    },
    "scrolled": false
   },
   "outputs": [],
   "source": [
    "# Sort communities based on number of nodes\n",
    "for comIndx in dnap.nodesComm[0][\"commOrderSize\"]:\n",
    "    print(\"Modularity Class {0:>2}: {1:>3} nodes.\".format(comIndx, len(dnap.nodesComm[0][\"commNodes\"][comIndx])))"
   ]
  },
  {
   "cell_type": "code",
   "execution_count": null,
   "metadata": {
    "ExecuteTime": {
     "end_time": "2020-04-14T20:04:05.099322Z",
     "start_time": "2020-04-14T20:04:05.000447Z"
    },
    "scrolled": false
   },
   "outputs": [],
   "source": [
    "# Sort communities based on the node with highest eigenvector centrality\n",
    "with open('Network Analysis/crRNA_community_EigenCentrality.txt', 'a') as f:\n",
    "    for comIndx in dnap.nodesComm[0][\"commOrderEigenCentr\"]:\n",
    "        print(\"Modularity Class {0} ({1} nodes) Sorted by Eigenvector Centrality:\".format(\n",
    "                                                 comIndx, len(dnap.nodesComm[0][\"commNodes\"][comIndx])),  file = f)\n",
    "\n",
    "        for node in dnap.nodesComm[0][\"commNodes\"][comIndx][:]:\n",
    "            print(\"Name: {0:>4} | Degree: {1:>2} | Eigenvector Centrality: {2}\".format(\n",
    "                node, dnap.nxGraphs[win].nodes[node]['degree'], dnap.nxGraphs[win].nodes[node]['eigenvector']), file = f)\n",
    "            print()"
   ]
  },
  {
   "cell_type": "markdown",
   "metadata": {},
   "source": [
    "# Process Interface Residues\n",
    "\n",
    "We now find all nodes that are close to both selections chosen by the user. That may include amino acids in the interface, as well as ligands, waters and ions."
   ]
  },
  {
   "cell_type": "code",
   "execution_count": null,
   "metadata": {
    "ExecuteTime": {
     "end_time": "2020-04-14T20:04:06.765269Z",
     "start_time": "2020-04-14T20:04:05.102432Z"
    }
   },
   "outputs": [],
   "source": [
    "dnap.interfaceAnalysis(selAstr=\"resid 1:1153\", selBstr=\"resid 1154:1204\")"
   ]
  },
  {
   "cell_type": "markdown",
   "metadata": {},
   "source": [
    "## Save The Data"
   ]
  },
  {
   "cell_type": "code",
   "execution_count": null,
   "metadata": {
    "ExecuteTime": {
     "end_time": "2020-04-14T20:04:06.952705Z",
     "start_time": "2020-04-14T20:04:06.767693Z"
    }
   },
   "outputs": [],
   "source": [
    "pathToData = \"/mnt/mainpool/storage/SHARED/Project_Cas13a/Analyses/TICA/pyemma/5us/\"\n",
    "\n",
    "fileNameRoot = \"crRNA_network\"\n",
    "\n",
    "fullPathRoot = os.path.join(pathToData, fileNameRoot)\n",
    "\n",
    "dnap.saveData(fullPathRoot)"
   ]
  },
  {
   "cell_type": "markdown",
   "metadata": {},
   "source": [
    "## Save reduced trajectory for visualization"
   ]
  },
  {
   "cell_type": "code",
   "execution_count": null,
   "metadata": {
    "ExecuteTime": {
     "end_time": "2020-04-14T20:04:07.074514Z",
     "start_time": "2020-04-14T20:04:06.955460Z"
    }
   },
   "outputs": [],
   "source": [
    "# This function will save a reduced DCD trajectory with the heavy atoms used for network analysis\n",
    "# A smaller trajectory can be created by choosing a \"stride\" that sub-samples the original trajectory.\n",
    "# This function will also produce a PDB file so that information on atoms and residues can be loaded to\n",
    "#    visualization software such as VMD.\n",
    "\n",
    "dcdstride = 1\n",
    "\n",
    "print(\"We will save {} heavy atoms and {} frames.\".format(dnap.workU.atoms.n_atoms, \n",
    "                                                          len(dnap.workU.trajectory[::dcdstride]) ))"
   ]
  },
  {
   "cell_type": "code",
   "execution_count": null,
   "metadata": {
    "ExecuteTime": {
     "end_time": "2020-04-14T20:04:10.709069Z",
     "start_time": "2020-04-14T20:04:07.078899Z"
    },
    "scrolled": false
   },
   "outputs": [],
   "source": [
    "dnap.saveReducedTraj(fullPathRoot, stride = dcdstride)"
   ]
  },
  {
   "cell_type": "markdown",
   "metadata": {},
   "source": [
    "MDAnalysis may print warnings regarding missing data fields, such as altLocs, icodes, occupancies, or tempfactor, which provide information commonly found in PDB files.\n",
    "The warnings are for your information and in the context of this tutorial they are expected and do not indicate a problem."
   ]
  },
  {
   "cell_type": "markdown",
   "metadata": {},
   "source": [
    "# Analysis\n",
    "\n",
    "The we have finished processing the trajectory and storing all related data. We can now move on to analysis of the network properties calculated here.\n",
    "\n",
    "**All analysis code was placed in a second tutorial notebook for clarity.**\n",
    "\n",
    "\n",
    "# ---- The End ----"
   ]
  }
 ],
 "metadata": {
  "kernelspec": {
   "display_name": "Python 3 (ipykernel)",
   "language": "python",
   "name": "python3"
  },
  "language_info": {
   "codemirror_mode": {
    "name": "ipython",
    "version": 3
   },
   "file_extension": ".py",
   "mimetype": "text/x-python",
   "name": "python",
   "nbconvert_exporter": "python",
   "pygments_lexer": "ipython3",
   "version": "3.9.5"
  }
 },
 "nbformat": 4,
 "nbformat_minor": 1
}
